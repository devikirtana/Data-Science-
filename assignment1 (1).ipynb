{
 "cells": [
  {
   "cell_type": "markdown",
   "id": "f22bb0fd-91f6-4b80-96aa-744e95632088",
   "metadata": {},
   "source": [
    "# 1.Characteristics of tuple"
   ]
  },
  {
   "cell_type": "markdown",
   "id": "f757ebff-ee52-450c-a154-c1e9a5b848e9",
   "metadata": {},
   "source": [
    "\"\"\" Tuples are ordered, it is unchangable and allow duplication.\n",
    "Tuple is immutable as it do not allow any changes of an element in a particular index \"\"\"\n"
   ]
  },
  {
   "cell_type": "markdown",
   "id": "6a4805b5-0a13-428c-832f-785d6c5d75ab",
   "metadata": {},
   "source": [
    "# 2.Two Tuple method of phython"
   ]
  },
  {
   "cell_type": "code",
   "execution_count": 1,
   "id": "f171b2cf-1f78-4a60-a509-28f3b5c8e8b5",
   "metadata": {},
   "outputs": [
    {
     "ename": "NameError",
     "evalue": "name 'count' is not defined",
     "output_type": "error",
     "traceback": [
      "\u001b[0;31m---------------------------------------------------------------------------\u001b[0m",
      "\u001b[0;31mNameError\u001b[0m                                 Traceback (most recent call last)",
      "Cell \u001b[0;32mIn[1], line 1\u001b[0m\n\u001b[0;32m----> 1\u001b[0m \u001b[43mcount\u001b[49m()\n\u001b[1;32m      2\u001b[0m index()\n",
      "\u001b[0;31mNameError\u001b[0m: name 'count' is not defined"
     ]
    }
   ],
   "source": [
    "count()\n",
    "index()"
   ]
  },
  {
   "cell_type": "code",
   "execution_count": 2,
   "id": "499e3177-ad6e-4bab-8291-e2a1a1e48182",
   "metadata": {},
   "outputs": [
    {
     "data": {
      "text/plain": [
       "1"
      ]
     },
     "execution_count": 2,
     "metadata": {},
     "output_type": "execute_result"
    }
   ],
   "source": [
    "t=(1,3,2,\"star\", \"moon\")\n",
    "t.count(3)"
   ]
  },
  {
   "cell_type": "code",
   "execution_count": 3,
   "id": "3ea70a41-e8bd-4fc7-9b82-8052ac65f139",
   "metadata": {},
   "outputs": [
    {
     "data": {
      "text/plain": [
       "2"
      ]
     },
     "execution_count": 3,
     "metadata": {},
     "output_type": "execute_result"
    }
   ],
   "source": [
    "t.index(2)"
   ]
  },
  {
   "cell_type": "markdown",
   "id": "158814cb-5062-4634-9ab1-b3491c05074d",
   "metadata": {},
   "source": [
    "\"\"Tuple has only 2 inbuilt method (only count,index) whereas list has so many inbuilt function .As tuple cant able to make any change or update it has only two inbuilt function \"\""
   ]
  },
  {
   "cell_type": "markdown",
   "id": "b515d248-69c7-4e11-95e4-4cda031f2434",
   "metadata": {},
   "source": [
    "### Qn 3"
   ]
  },
  {
   "cell_type": "code",
   "execution_count": 13,
   "id": "b79c8cb3-347a-4d04-a13c-dfbda16fd357",
   "metadata": {},
   "outputs": [],
   "source": [
    "##Set is the datatype which do not duplicate items in python\n",
    "s1 = {1, 1, 1, 2, 1, 3, 1, 4, 2, 1, 2, 2, 2, 3, 2, 4, 3, 1, 3, 2, 3, 3, 3, 4, 4, 1, 4, 2, 4, 3, 4, 4}\n"
   ]
  },
  {
   "cell_type": "code",
   "execution_count": 14,
   "id": "9b0bffae-2931-4dd1-8771-3a9946e976b3",
   "metadata": {},
   "outputs": [
    {
     "data": {
      "text/plain": [
       "{1, 2, 3, 4}"
      ]
     },
     "execution_count": 14,
     "metadata": {},
     "output_type": "execute_result"
    }
   ],
   "source": [
    "s1"
   ]
  },
  {
   "cell_type": "markdown",
   "id": "382616a3-16a2-4b70-97db-f85b0669494a",
   "metadata": {},
   "source": [
    "### Qn 4"
   ]
  },
  {
   "cell_type": "code",
   "execution_count": null,
   "id": "46e1d897-072e-40b2-abe8-364622147a2f",
   "metadata": {},
   "outputs": [],
   "source": [
    "Update() update a set with another set,its just an update with set.Union() unites both set together,its a combination of two sets.Both have similar result "
   ]
  },
  {
   "cell_type": "code",
   "execution_count": 4,
   "id": "060910c5-88d4-407d-93d9-f7d6382fd356",
   "metadata": {},
   "outputs": [],
   "source": [
    "## eg of update()\n",
    "s1={1,2,\"apple\",\"orange\",45}\n",
    "s2={4,5,6,\"berry\",\"choco\"}\n"
   ]
  },
  {
   "cell_type": "code",
   "execution_count": 5,
   "id": "f95a6dcb-8f22-46e5-bc1d-bd2dd9027135",
   "metadata": {},
   "outputs": [],
   "source": [
    "s1.update(s2)"
   ]
  },
  {
   "cell_type": "code",
   "execution_count": 6,
   "id": "63d1d906-9e30-4a96-bf56-96b693ec816d",
   "metadata": {},
   "outputs": [
    {
     "data": {
      "text/plain": [
       "{1, 2, 4, 45, 5, 6, 'apple', 'berry', 'choco', 'orange'}"
      ]
     },
     "execution_count": 6,
     "metadata": {},
     "output_type": "execute_result"
    }
   ],
   "source": [
    "s1"
   ]
  },
  {
   "cell_type": "code",
   "execution_count": 7,
   "id": "16398102-da9a-44d2-ac95-1fe022966890",
   "metadata": {},
   "outputs": [
    {
     "data": {
      "text/plain": [
       "{1, 2, 4, 45, 5, 6, 'apple', 'berry', 'choco', 'orange'}"
      ]
     },
     "execution_count": 7,
     "metadata": {},
     "output_type": "execute_result"
    }
   ],
   "source": [
    "s1.union(s2)"
   ]
  },
  {
   "cell_type": "code",
   "execution_count": 8,
   "id": "81179302-625c-4edf-bf7c-1161e2119a6a",
   "metadata": {},
   "outputs": [
    {
     "data": {
      "text/plain": [
       "{1, 2, 4, 45, 5, 6, 'apple', 'berry', 'choco', 'orange'}"
      ]
     },
     "execution_count": 8,
     "metadata": {},
     "output_type": "execute_result"
    }
   ],
   "source": [
    "s1"
   ]
  },
  {
   "cell_type": "code",
   "execution_count": 9,
   "id": "1d168dfc-5937-4d95-9047-8f3cdf7eab7e",
   "metadata": {},
   "outputs": [
    {
     "data": {
      "text/plain": [
       "{4, 5, 6, 'berry', 'choco'}"
      ]
     },
     "execution_count": 9,
     "metadata": {},
     "output_type": "execute_result"
    }
   ],
   "source": [
    "s2"
   ]
  },
  {
   "cell_type": "markdown",
   "id": "6068ae79-e91a-4acd-81ba-d663b403b57f",
   "metadata": {},
   "source": [
    "### Qn 5"
   ]
  },
  {
   "cell_type": "code",
   "execution_count": 10,
   "id": "fad96f67-5f70-4011-942f-8bc6462c4cd9",
   "metadata": {},
   "outputs": [
    {
     "ename": "SyntaxError",
     "evalue": "invalid syntax (4193915303.py, line 1)",
     "output_type": "error",
     "traceback": [
      "\u001b[0;36m  Cell \u001b[0;32mIn[10], line 1\u001b[0;36m\u001b[0m\n\u001b[0;31m    Dictionary is a collection of set which contains keys and values. In dictionary the keys must be unique ie.,do not have any repitative keys\u001b[0m\n\u001b[0m                    ^\u001b[0m\n\u001b[0;31mSyntaxError\u001b[0m\u001b[0;31m:\u001b[0m invalid syntax\n"
     ]
    }
   ],
   "source": [
    "Dictionary is a collection of set which contains keys and values. In dictionary the keys must be unique ie.,do not have any repitative keys\n",
    "also dictionaary is ordered."
   ]
  },
  {
   "cell_type": "code",
   "execution_count": 27,
   "id": "9e555d13-e2c9-431a-8911-65832bfce3ce",
   "metadata": {},
   "outputs": [],
   "source": [
    "## eg\n",
    "d={\"name\":\"pradeep\",\"class\":10,\"marks\":90}"
   ]
  },
  {
   "cell_type": "markdown",
   "id": "6a7e7b58-4b62-4a30-b8a2-3bc1302b5cc7",
   "metadata": {},
   "source": [
    "### Qn 6"
   ]
  },
  {
   "cell_type": "code",
   "execution_count": null,
   "id": "5617aff8-b1e4-4951-a24f-009d3a4fedca",
   "metadata": {},
   "outputs": [],
   "source": [
    "Nested dictionary can be created within a dictionary"
   ]
  },
  {
   "cell_type": "code",
   "execution_count": 23,
   "id": "a09aad91-2755-42c7-9daa-7ad40ceb010e",
   "metadata": {},
   "outputs": [],
   "source": [
    "## eg\n",
    "person={1:{\"name\":\"sujan\",\"aim\":\"doctor\",\"salary\":100000},2:{\"salary\":\"deepthi\",\"salary\":250000}}"
   ]
  },
  {
   "cell_type": "code",
   "execution_count": 24,
   "id": "6f3a2603-08ac-4a51-8b31-2341f596f7ba",
   "metadata": {},
   "outputs": [
    {
     "data": {
      "text/plain": [
       "{1: {'name': 'sujan', 'aim': 'doctor', 'salary': 100000},\n",
       " 2: {'salary': 250000}}"
      ]
     },
     "execution_count": 24,
     "metadata": {},
     "output_type": "execute_result"
    }
   ],
   "source": [
    "person"
   ]
  },
  {
   "cell_type": "markdown",
   "id": "0d9dc841-9ed7-42f6-8bd4-c197e3c49a30",
   "metadata": {},
   "source": [
    "### Qn 7"
   ]
  },
  {
   "cell_type": "code",
   "execution_count": 3,
   "id": "eec4d44e-8b15-42cc-8929-4837f59d71a3",
   "metadata": {},
   "outputs": [],
   "source": [
    "dict1 = {'language' : 'Python', 'course': 'Data Science Masters'}\n",
    "dict2={'topic':['python','machine language','deep learning']}"
   ]
  },
  {
   "cell_type": "code",
   "execution_count": 4,
   "id": "d7cdf35a-1814-4f5a-b77d-4f71c0667592",
   "metadata": {},
   "outputs": [],
   "source": [
    "dict1.update(dict2)"
   ]
  },
  {
   "cell_type": "code",
   "execution_count": 5,
   "id": "e3e6875c-4469-4140-a21d-42bca0470a37",
   "metadata": {},
   "outputs": [
    {
     "data": {
      "text/plain": [
       "{'language': 'Python',\n",
       " 'course': 'Data Science Masters',\n",
       " 'topic': ['python', 'machine language', 'deep learning']}"
      ]
     },
     "execution_count": 5,
     "metadata": {},
     "output_type": "execute_result"
    }
   ],
   "source": [
    "dict1"
   ]
  },
  {
   "cell_type": "markdown",
   "id": "5562da82-a7ba-4770-9e29-fbb298e333b0",
   "metadata": {},
   "source": [
    "### Qn 8"
   ]
  },
  {
   "cell_type": "code",
   "execution_count": null,
   "id": "cbc0c216-132e-476c-998b-98ed82695af3",
   "metadata": {},
   "outputs": [],
   "source": [
    "Three view objects in dictionaries are \"keys,values and items\"."
   ]
  },
  {
   "cell_type": "code",
   "execution_count": 20,
   "id": "9d16e8c8-6d51-49b8-8799-8e86920c7759",
   "metadata": {},
   "outputs": [],
   "source": [
    "dict3= {'Sport': 'Cricket' , 'Teams': ['India', 'Australia', 'England', 'South Africa', 'Sri Lanka', 'New Zealand']}"
   ]
  },
  {
   "cell_type": "code",
   "execution_count": 19,
   "id": "eb83d7f7-80f9-46f7-81af-6a39dc75de1a",
   "metadata": {},
   "outputs": [
    {
     "data": {
      "text/plain": [
       "dict_keys(['Sport', 'Teams'])"
      ]
     },
     "execution_count": 19,
     "metadata": {},
     "output_type": "execute_result"
    }
   ],
   "source": [
    "dict3.keys()"
   ]
  },
  {
   "cell_type": "code",
   "execution_count": 21,
   "id": "e71dc1ae-78de-4a1a-bc4e-8134e43f5d9e",
   "metadata": {},
   "outputs": [
    {
     "data": {
      "text/plain": [
       "dict_values(['Cricket', ['India', 'Australia', 'England', 'South Africa', 'Sri Lanka', 'New Zealand']])"
      ]
     },
     "execution_count": 21,
     "metadata": {},
     "output_type": "execute_result"
    }
   ],
   "source": [
    "dict3.values()"
   ]
  },
  {
   "cell_type": "code",
   "execution_count": 22,
   "id": "5bb9f9bf-263c-4ac7-be60-8b5643b1f6df",
   "metadata": {},
   "outputs": [
    {
     "data": {
      "text/plain": [
       "dict_items([('Sport', 'Cricket'), ('Teams', ['India', 'Australia', 'England', 'South Africa', 'Sri Lanka', 'New Zealand'])])"
      ]
     },
     "execution_count": 22,
     "metadata": {},
     "output_type": "execute_result"
    }
   ],
   "source": [
    "dict3.items()"
   ]
  },
  {
   "cell_type": "code",
   "execution_count": null,
   "id": "8075a691-e3bd-4dcd-adcd-849ca0303a28",
   "metadata": {},
   "outputs": [],
   "source": []
  },
  {
   "cell_type": "code",
   "execution_count": null,
   "id": "b09e119f-32cd-4c21-826c-d13fc6d3256c",
   "metadata": {},
   "outputs": [],
   "source": []
  }
 ],
 "metadata": {
  "kernelspec": {
   "display_name": "Python 3 (ipykernel)",
   "language": "python",
   "name": "python3"
  },
  "language_info": {
   "codemirror_mode": {
    "name": "ipython",
    "version": 3
   },
   "file_extension": ".py",
   "mimetype": "text/x-python",
   "name": "python",
   "nbconvert_exporter": "python",
   "pygments_lexer": "ipython3",
   "version": "3.10.8"
  }
 },
 "nbformat": 4,
 "nbformat_minor": 5
}
